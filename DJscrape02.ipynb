{
 "cells": [
  {
   "cell_type": "code",
   "execution_count": 1,
   "metadata": {},
   "outputs": [],
   "source": [
    "# import os\n",
    "# from PyQt4.QtGui import QApplication\n",
    "# from PyQt4.QtCore import QUrl\n",
    "# from PyQt4.QtWebkit import QWebpage\n",
    "# import bs4 as bs\n",
    "# import urllib.request"
   ]
  },
  {
   "cell_type": "code",
   "execution_count": 1,
   "metadata": {},
   "outputs": [],
   "source": [
    "import os\n",
    "from selenium import webdriver\n",
    "from selenium.webdriver.common.keys import Keys\n",
    "import requests\n",
    "from bs4 import BeautifulSoup\n",
    "import datetime\n",
    "import re\n",
    "import time\n",
    "import urllib\n",
    "import pandas as pd\n",
    "import numpy as np\n",
    "\n",
    "url = \"https://cointelegraph.com/tags/bitcoin-regulation\""
   ]
  },
  {
   "cell_type": "code",
   "execution_count": 12,
   "metadata": {
    "scrolled": true
   },
   "outputs": [],
   "source": [
    "#os.environ[\"PATH\"] += os.pathsep + r'/Users/wendy/Documents/GitHub/DEDA_SS18_RegRisk/'\n",
    "\n",
    "driver = webdriver.Chrome()"
   ]
  },
  {
   "cell_type": "code",
   "execution_count": 13,
   "metadata": {},
   "outputs": [],
   "source": [
    "driver.get(url)"
   ]
  },
  {
   "cell_type": "code",
   "execution_count": 14,
   "metadata": {},
   "outputs": [],
   "source": [
    "html = driver.execute_script(\"return document.documentElement.outerHTML\")"
   ]
  },
  {
   "cell_type": "code",
   "execution_count": 15,
   "metadata": {},
   "outputs": [],
   "source": [
    "selsoup = BeautifulSoup(html, \"html.parser\")"
   ]
  },
  {
   "cell_type": "code",
   "execution_count": 18,
   "metadata": {
    "scrolled": true
   },
   "outputs": [],
   "source": [
    "for titlesoup in selsoup.findAll(\"h2\",{\"class\":\"header\"}):\n",
    "    for link2 in titlesoup.findAll(\"a\", href = re.compile(\"^(https://cointelegraph.com/news/)\")):\n",
    "        if 'href' in link2.attrs:\n",
    "            linkname = link2.attrs['href']\n",
    "        print(linkname)"
   ]
  },
  {
   "cell_type": "code",
   "execution_count": null,
   "metadata": {},
   "outputs": [],
   "source": []
  },
  {
   "cell_type": "code",
   "execution_count": 45,
   "metadata": {},
   "outputs": [
    {
     "data": {
      "text/plain": [
       "9"
      ]
     },
     "execution_count": 45,
     "metadata": {},
     "output_type": "execute_result"
    }
   ],
   "source": [
    "filename = \"recent1.csv\"\n",
    "f = open(filename, 'w')\n",
    "\n",
    "headers = \"linkname\\n\"\n",
    "\n",
    "f.write(headers)"
   ]
  },
  {
   "cell_type": "code",
   "execution_count": 37,
   "metadata": {
    "scrolled": true
   },
   "outputs": [],
   "source": [
    "driver = webdriver.Firefox()\n",
    "driver.get(url)\n",
    "for i in range(1,5):\n",
    "    elem = driver.find_element_by_link_text(\"Load more articles\")\n",
    "    elem.send_keys(Keys.RETURN)\n",
    "    \n",
    "#     linkno=1\n",
    "    for link in selsoup.findAll(\"a\", href = re.compile(\"^(https://cointelegraph.com/news/)\")):\n",
    "        if 'href' in link.attrs :\n",
    "#             print(linkno)\n",
    "            linkname = link.attrs['href']\n",
    "#         print(link.attrs['href'])\n",
    "#         linkno=linkno+1\n",
    "            f.write(linkname + \"\\n\")\n",
    "#     f.close()\n",
    "    \n",
    "    i += 1\n",
    "f.close()\n",
    "# loads the page more but scrapes only from first page"
   ]
  },
  {
   "cell_type": "code",
   "execution_count": null,
   "metadata": {},
   "outputs": [],
   "source": []
  },
  {
   "cell_type": "code",
   "execution_count": 39,
   "metadata": {
    "scrolled": true
   },
   "outputs": [
    {
     "ename": "ValueError",
     "evalue": "I/O operation on closed file.",
     "output_type": "error",
     "traceback": [
      "\u001b[1;31m---------------------------------------------------------------------------\u001b[0m",
      "\u001b[1;31mValueError\u001b[0m                                Traceback (most recent call last)",
      "\u001b[1;32m<ipython-input-39-3de22812196e>\u001b[0m in \u001b[0;36m<module>\u001b[1;34m()\u001b[0m\n\u001b[0;32m     12\u001b[0m \u001b[1;31m#         print(link.attrs['href'])\u001b[0m\u001b[1;33m\u001b[0m\u001b[1;33m\u001b[0m\u001b[0m\n\u001b[0;32m     13\u001b[0m \u001b[1;31m#         linkno=linkno+1\u001b[0m\u001b[1;33m\u001b[0m\u001b[1;33m\u001b[0m\u001b[0m\n\u001b[1;32m---> 14\u001b[1;33m         \u001b[0mf\u001b[0m\u001b[1;33m.\u001b[0m\u001b[0mwrite\u001b[0m\u001b[1;33m(\u001b[0m\u001b[0mlinkname\u001b[0m \u001b[1;33m+\u001b[0m \u001b[1;34m\"\\n\"\u001b[0m\u001b[1;33m)\u001b[0m\u001b[1;33m\u001b[0m\u001b[0m\n\u001b[0m\u001b[0;32m     15\u001b[0m \u001b[1;31m#     f.close()\u001b[0m\u001b[1;33m\u001b[0m\u001b[1;33m\u001b[0m\u001b[0m\n\u001b[0;32m     16\u001b[0m \u001b[1;33m\u001b[0m\u001b[0m\n",
      "\u001b[1;31mValueError\u001b[0m: I/O operation on closed file."
     ]
    }
   ],
   "source": [
    "driver = webdriver.Firefox()\n",
    "driver.get(url)\n",
    "for i in range(1,5):\n",
    "    elem = driver.find_element_by_link_text(\"Load more articles\")\n",
    "    elem.send_keys(Keys.RETURN)\n",
    "    i += 1\n",
    "#     linkno=1\n",
    "for link in selsoup.findAll(\"a\", href = re.compile(\"^(https://cointelegraph.com/news/)\")):\n",
    "    if 'href' in link.attrs :\n",
    "#             print(linkno)\n",
    "        linkname = link.attrs['href']\n",
    "#         print(link.attrs['href'])\n",
    "#         linkno=linkno+1\n",
    "        f.write(linkname + \"\\n\")\n",
    "#     f.close()\n",
    "    \n",
    "    \n",
    "f.close()"
   ]
  },
  {
   "cell_type": "code",
   "execution_count": null,
   "metadata": {},
   "outputs": [],
   "source": []
  },
  {
   "cell_type": "code",
   "execution_count": 82,
   "metadata": {
    "scrolled": true
   },
   "outputs": [],
   "source": [
    "driver = webdriver.Firefox()\n",
    "driver.get(url)\n",
    "for i in range(1,80):\n",
    "    elem = driver.find_element_by_link_text(\"Load more articles\")\n",
    "    elem.send_keys(Keys.RETURN)\n",
    "    \n",
    "#     for link in selsoup.findAll(\"a\", href = re.compile(\"^(https://cointelegraph.com/news/)\")):\n",
    "#         if 'href' in link.attrs:\n",
    "#             linkname = link.attrs['href']\n",
    "#         print(link.attrs['href'])\n",
    "#         linkno=linkno+1\n",
    "#             f.write(linkname + \"\\n\")\n",
    "#     f.close()\n",
    "    \n",
    "    i += 1\n",
    "time.sleep(10)\n",
    "# f.close()"
   ]
  },
  {
   "cell_type": "code",
   "execution_count": 83,
   "metadata": {},
   "outputs": [],
   "source": [
    "html = driver.page_source\n",
    "mysoup = BeautifulSoup(html, \"html.parser\")"
   ]
  },
  {
   "cell_type": "code",
   "execution_count": 84,
   "metadata": {},
   "outputs": [
    {
     "data": {
      "text/plain": [
       "9"
      ]
     },
     "execution_count": 84,
     "metadata": {},
     "output_type": "execute_result"
    }
   ],
   "source": [
    "filename = \"ctlinks81.csv\"\n",
    "f = open(filename, 'w')\n",
    "\n",
    "headers = \"linkname\\n\"\n",
    "\n",
    "f.write(headers)"
   ]
  },
  {
   "cell_type": "code",
   "execution_count": 85,
   "metadata": {},
   "outputs": [],
   "source": [
    "for link in mysoup.findAll(\"a\", href = re.compile(\"^(https://cointelegraph.com/news/)\")):\n",
    "    if 'href' in link.attrs:\n",
    "        linkname = link.attrs['href']\n",
    "#         print(link.attrs['href'])\n",
    "#         linkno=linkno+1\n",
    "        f.write(linkname + \"\\n\")\n",
    "#     f.close()\n",
    "    \n",
    "#     i += 1\n",
    "f.close()"
   ]
  },
  {
   "cell_type": "code",
   "execution_count": 8,
   "metadata": {
    "scrolled": true
   },
   "outputs": [],
   "source": [
    "driver = webdriver.Firefox()\n",
    "driver.get(url)\n",
    "# elem = driver.find_element_by_partial_link_text(\"#top\")\n",
    "# html = driver.page_source\n",
    "# mysoup = BeautifulSoup(html, \"html.parser\")\n",
    "\n",
    "# topnews = mysoup.find(\"a\", href=\"#top\")\n"
   ]
  },
  {
   "cell_type": "code",
   "execution_count": 9,
   "metadata": {},
   "outputs": [],
   "source": [
    "topnews = driver.find_element_by_link_text(\"Top News\")\n",
    "topnews.send_keys(Keys.RETURN)"
   ]
  },
  {
   "cell_type": "code",
   "execution_count": 112,
   "metadata": {},
   "outputs": [
    {
     "data": {
      "text/plain": [
       "[]"
      ]
     },
     "execution_count": 112,
     "metadata": {},
     "output_type": "execute_result"
    }
   ],
   "source": [
    "mysoup.find_all(\"u1\",{\"class\":\"nav nav-tabs size01\"})"
   ]
  },
  {
   "cell_type": "code",
   "execution_count": 106,
   "metadata": {},
   "outputs": [
    {
     "data": {
      "text/plain": [
       "' News '"
      ]
     },
     "execution_count": 106,
     "metadata": {},
     "output_type": "execute_result"
    }
   ],
   "source": [
    "mysoup.li.a.text"
   ]
  },
  {
   "cell_type": "code",
   "execution_count": 114,
   "metadata": {},
   "outputs": [
    {
     "data": {
      "text/plain": [
       "'Top News'"
      ]
     },
     "execution_count": 114,
     "metadata": {},
     "output_type": "execute_result"
    }
   ],
   "source": [
    "mysoup.find(\"a\", href=\"#top\").text"
   ]
  },
  {
   "cell_type": "code",
   "execution_count": 28,
   "metadata": {
    "scrolled": true
   },
   "outputs": [],
   "source": [
    "driver = webdriver.Firefox()\n",
    "driver.get(url)\n",
    "\n",
    "for i in range(1,500):\n",
    "    elem = driver.find_element_by_link_text(\"Load more articles\")\n",
    "    elem.send_keys(Keys.RETURN)\n",
    "    \n",
    "#     for link in selsoup.findAll(\"a\", href = re.compile(\"^(https://cointelegraph.com/news/)\")):\n",
    "#         if 'href' in link.attrs:\n",
    "#             linkname = link.attrs['href']\n",
    "#         print(link.attrs['href'])\n",
    "#         linkno=linkno+1\n",
    "#             f.write(linkname + \"\\n\")\n",
    "#     f.close()\n",
    "    \n",
    "    i += 1\n",
    "time.sleep(500)\n",
    "# f.close()"
   ]
  },
  {
   "cell_type": "code",
   "execution_count": 29,
   "metadata": {},
   "outputs": [],
   "source": [
    "html = driver.page_source\n",
    "mysoup = BeautifulSoup(html, \"html.parser\")\n",
    "# driver.exit()"
   ]
  },
  {
   "cell_type": "code",
   "execution_count": 30,
   "metadata": {},
   "outputs": [
    {
     "data": {
      "text/plain": [
       "9"
      ]
     },
     "execution_count": 30,
     "metadata": {},
     "output_type": "execute_result"
    }
   ],
   "source": [
    "filename = \"ctlinks103.csv\"\n",
    "f = open(filename, 'w')\n",
    "\n",
    "headers = \"linkname\\n\"\n",
    "\n",
    "f.write(headers)"
   ]
  },
  {
   "cell_type": "code",
   "execution_count": 31,
   "metadata": {},
   "outputs": [],
   "source": [
    "for link in mysoup.findAll(\"a\", href = re.compile(\"^(https://cointelegraph.com/news/)\")):\n",
    "    if 'href' in link.attrs:\n",
    "        linkname = link.attrs['href']\n",
    "#         print(link.attrs['href'])\n",
    "#         linkno=linkno+1\n",
    "        f.write(linkname + \"\\n\")\n",
    "#     f.close()\n",
    "    \n",
    "#     i += 1\n",
    "f.close()"
   ]
  },
  {
   "cell_type": "code",
   "execution_count": null,
   "metadata": {},
   "outputs": [],
   "source": []
  },
  {
   "cell_type": "code",
   "execution_count": null,
   "metadata": {},
   "outputs": [],
   "source": []
  },
  {
   "cell_type": "code",
   "execution_count": null,
   "metadata": {},
   "outputs": [],
   "source": [
    "# now scraping top news articles"
   ]
  },
  {
   "cell_type": "code",
   "execution_count": 15,
   "metadata": {},
   "outputs": [],
   "source": [
    "driver = webdriver.Firefox()\n",
    "driver.get(url)\n",
    "\n",
    "topnews = driver.find_element_by_link_text(\"Top News\")\n",
    "topnews.send_keys(Keys.RETURN)\n",
    "\n",
    "for i in range(1,100):\n",
    "    elem = driver.find_element_by_link_text(\"Load more articles\")\n",
    "    elem.send_keys(Keys.RETURN)\n",
    "     \n",
    "    i += 1\n",
    "time.sleep(10)"
   ]
  },
  {
   "cell_type": "code",
   "execution_count": 16,
   "metadata": {},
   "outputs": [],
   "source": [
    "html = driver.page_source\n",
    "mysoup = BeautifulSoup(html, \"html.parser\")"
   ]
  },
  {
   "cell_type": "code",
   "execution_count": 17,
   "metadata": {},
   "outputs": [
    {
     "data": {
      "text/plain": [
       "9"
      ]
     },
     "execution_count": 17,
     "metadata": {},
     "output_type": "execute_result"
    }
   ],
   "source": [
    "filename = \"toplinks100.csv\"\n",
    "f = open(filename, 'w')\n",
    "\n",
    "headers = \"linkname\\n\"\n",
    "\n",
    "f.write(headers)"
   ]
  },
  {
   "cell_type": "code",
   "execution_count": 18,
   "metadata": {},
   "outputs": [],
   "source": [
    "for link in mysoup.findAll(\"a\", href = re.compile(\"^(https://cointelegraph.com/news/)\")):\n",
    "    if 'href' in link.attrs:\n",
    "        linkname = link.attrs['href']\n",
    "\n",
    "        f.write(linkname + \"\\n\")\n",
    "\n",
    "f.close()"
   ]
  },
  {
   "cell_type": "code",
   "execution_count": null,
   "metadata": {},
   "outputs": [],
   "source": []
  },
  {
   "cell_type": "code",
   "execution_count": null,
   "metadata": {},
   "outputs": [],
   "source": []
  },
  {
   "cell_type": "code",
   "execution_count": 19,
   "metadata": {},
   "outputs": [],
   "source": [
    "# now scrape the most commented articles"
   ]
  },
  {
   "cell_type": "code",
   "execution_count": 20,
   "metadata": {},
   "outputs": [],
   "source": [
    "driver = webdriver.Firefox()\n",
    "driver.get(url)\n",
    "\n",
    "topnews = driver.find_element_by_link_text(\"Commented\")\n",
    "topnews.send_keys(Keys.RETURN)\n",
    "\n",
    "for i in range(1,100):\n",
    "    elem = driver.find_element_by_link_text(\"Load more articles\")\n",
    "    elem.send_keys(Keys.RETURN)\n",
    "     \n",
    "    i += 1\n",
    "time.sleep(10)"
   ]
  },
  {
   "cell_type": "code",
   "execution_count": 21,
   "metadata": {},
   "outputs": [],
   "source": [
    "html = driver.page_source\n",
    "mysoup = BeautifulSoup(html, \"html.parser\")"
   ]
  },
  {
   "cell_type": "code",
   "execution_count": 22,
   "metadata": {},
   "outputs": [
    {
     "data": {
      "text/plain": [
       "9"
      ]
     },
     "execution_count": 22,
     "metadata": {},
     "output_type": "execute_result"
    }
   ],
   "source": [
    "filename = \"commented100.csv\"\n",
    "f = open(filename, 'w')\n",
    "\n",
    "headers = \"linkname\\n\"\n",
    "\n",
    "f.write(headers)"
   ]
  },
  {
   "cell_type": "code",
   "execution_count": 23,
   "metadata": {},
   "outputs": [],
   "source": [
    "for link in mysoup.findAll(\"a\", href = re.compile(\"^(https://cointelegraph.com/news/)\")):\n",
    "    if 'href' in link.attrs:\n",
    "        linkname = link.attrs['href']\n",
    "\n",
    "        f.write(linkname + \"\\n\")\n",
    "\n",
    "f.close()"
   ]
  },
  {
   "cell_type": "code",
   "execution_count": null,
   "metadata": {},
   "outputs": [],
   "source": []
  },
  {
   "cell_type": "code",
   "execution_count": 46,
   "metadata": {},
   "outputs": [],
   "source": [
    "recentlinks = pd.read_csv(\"ctlinks101.csv\")\n",
    "toplinks = pd.read_csv(\"toplinks100.csv\")\n",
    "commentedlinks = pd.read_csv(\"commented100.csv\")"
   ]
  },
  {
   "cell_type": "code",
   "execution_count": 47,
   "metadata": {},
   "outputs": [
    {
     "data": {
      "text/html": [
       "<div>\n",
       "<style>\n",
       "    .dataframe thead tr:only-child th {\n",
       "        text-align: right;\n",
       "    }\n",
       "\n",
       "    .dataframe thead th {\n",
       "        text-align: left;\n",
       "    }\n",
       "\n",
       "    .dataframe tbody tr th {\n",
       "        vertical-align: top;\n",
       "    }\n",
       "</style>\n",
       "<table border=\"1\" class=\"dataframe\">\n",
       "  <thead>\n",
       "    <tr style=\"text-align: right;\">\n",
       "      <th></th>\n",
       "      <th>linkname</th>\n",
       "    </tr>\n",
       "  </thead>\n",
       "  <tbody>\n",
       "    <tr>\n",
       "      <th>0</th>\n",
       "      <td>https://cointelegraph.com/news/sec-chairman-ja...</td>\n",
       "    </tr>\n",
       "    <tr>\n",
       "      <th>1</th>\n",
       "      <td>https://cointelegraph.com/news/sec-chairman-ja...</td>\n",
       "    </tr>\n",
       "    <tr>\n",
       "      <th>2</th>\n",
       "      <td>https://cointelegraph.com/news/sec-chairman-ja...</td>\n",
       "    </tr>\n",
       "    <tr>\n",
       "      <th>3</th>\n",
       "      <td>https://cointelegraph.com/news/japan-s-financi...</td>\n",
       "    </tr>\n",
       "    <tr>\n",
       "      <th>4</th>\n",
       "      <td>https://cointelegraph.com/news/japan-s-financi...</td>\n",
       "    </tr>\n",
       "  </tbody>\n",
       "</table>\n",
       "</div>"
      ],
      "text/plain": [
       "                                            linkname\n",
       "0  https://cointelegraph.com/news/sec-chairman-ja...\n",
       "1  https://cointelegraph.com/news/sec-chairman-ja...\n",
       "2  https://cointelegraph.com/news/sec-chairman-ja...\n",
       "3  https://cointelegraph.com/news/japan-s-financi...\n",
       "4  https://cointelegraph.com/news/japan-s-financi..."
      ]
     },
     "execution_count": 47,
     "metadata": {},
     "output_type": "execute_result"
    }
   ],
   "source": [
    "recentlinks.head()"
   ]
  },
  {
   "cell_type": "code",
   "execution_count": 55,
   "metadata": {
    "scrolled": true
   },
   "outputs": [],
   "source": [
    "recentlinks = recentlinks.drop_duplicates(subset=['linkname'], keep='first')"
   ]
  },
  {
   "cell_type": "code",
   "execution_count": 56,
   "metadata": {
    "scrolled": true
   },
   "outputs": [
    {
     "data": {
      "text/plain": [
       "(761, 1)"
      ]
     },
     "execution_count": 56,
     "metadata": {},
     "output_type": "execute_result"
    }
   ],
   "source": [
    "recentlinks.shape"
   ]
  },
  {
   "cell_type": "code",
   "execution_count": 57,
   "metadata": {},
   "outputs": [],
   "source": [
    "recentlinks = recentlinks.reset_index(drop=True)"
   ]
  },
  {
   "cell_type": "code",
   "execution_count": 58,
   "metadata": {},
   "outputs": [
    {
     "data": {
      "text/plain": [
       "(761, 1)"
      ]
     },
     "execution_count": 58,
     "metadata": {},
     "output_type": "execute_result"
    }
   ],
   "source": [
    "recentlinks.shape"
   ]
  },
  {
   "cell_type": "code",
   "execution_count": 59,
   "metadata": {},
   "outputs": [
    {
     "data": {
      "text/html": [
       "<div>\n",
       "<style>\n",
       "    .dataframe thead tr:only-child th {\n",
       "        text-align: right;\n",
       "    }\n",
       "\n",
       "    .dataframe thead th {\n",
       "        text-align: left;\n",
       "    }\n",
       "\n",
       "    .dataframe tbody tr th {\n",
       "        vertical-align: top;\n",
       "    }\n",
       "</style>\n",
       "<table border=\"1\" class=\"dataframe\">\n",
       "  <thead>\n",
       "    <tr style=\"text-align: right;\">\n",
       "      <th></th>\n",
       "      <th>linkname</th>\n",
       "    </tr>\n",
       "  </thead>\n",
       "  <tbody>\n",
       "    <tr>\n",
       "      <th>0</th>\n",
       "      <td>https://cointelegraph.com/news/sec-chairman-ja...</td>\n",
       "    </tr>\n",
       "    <tr>\n",
       "      <th>1</th>\n",
       "      <td>https://cointelegraph.com/news/japan-s-financi...</td>\n",
       "    </tr>\n",
       "    <tr>\n",
       "      <th>2</th>\n",
       "      <td>https://cointelegraph.com/news/lexisnexis-part...</td>\n",
       "    </tr>\n",
       "    <tr>\n",
       "      <th>3</th>\n",
       "      <td>https://cointelegraph.com/news/russian-court-a...</td>\n",
       "    </tr>\n",
       "    <tr>\n",
       "      <th>4</th>\n",
       "      <td>https://cointelegraph.com/news/former-sec-chai...</td>\n",
       "    </tr>\n",
       "  </tbody>\n",
       "</table>\n",
       "</div>"
      ],
      "text/plain": [
       "                                            linkname\n",
       "0  https://cointelegraph.com/news/sec-chairman-ja...\n",
       "1  https://cointelegraph.com/news/japan-s-financi...\n",
       "2  https://cointelegraph.com/news/lexisnexis-part...\n",
       "3  https://cointelegraph.com/news/russian-court-a...\n",
       "4  https://cointelegraph.com/news/former-sec-chai..."
      ]
     },
     "execution_count": 59,
     "metadata": {},
     "output_type": "execute_result"
    }
   ],
   "source": [
    "recentlinks.head()"
   ]
  },
  {
   "cell_type": "code",
   "execution_count": 141,
   "metadata": {},
   "outputs": [],
   "source": [
    "frames = [recentlinks, toplinks, commentedlinks]\n",
    "linksall = pd.concat(frames)"
   ]
  },
  {
   "cell_type": "code",
   "execution_count": 142,
   "metadata": {},
   "outputs": [
    {
     "data": {
      "text/plain": [
       "(9306, 1)"
      ]
     },
     "execution_count": 142,
     "metadata": {},
     "output_type": "execute_result"
    }
   ],
   "source": [
    "linksall.shape"
   ]
  },
  {
   "cell_type": "code",
   "execution_count": 143,
   "metadata": {
    "scrolled": true
   },
   "outputs": [],
   "source": [
    "linksall = linksall.drop_duplicates(subset=['linkname'], keep='first')"
   ]
  },
  {
   "cell_type": "code",
   "execution_count": 144,
   "metadata": {},
   "outputs": [
    {
     "data": {
      "text/plain": [
       "(940, 1)"
      ]
     },
     "execution_count": 144,
     "metadata": {},
     "output_type": "execute_result"
    }
   ],
   "source": [
    "linksall.shape"
   ]
  },
  {
   "cell_type": "code",
   "execution_count": 145,
   "metadata": {},
   "outputs": [],
   "source": [
    "linksall = linksall[linksall.linkname != 'linkname']"
   ]
  },
  {
   "cell_type": "code",
   "execution_count": 146,
   "metadata": {},
   "outputs": [
    {
     "data": {
      "text/plain": [
       "(940, 1)"
      ]
     },
     "execution_count": 146,
     "metadata": {},
     "output_type": "execute_result"
    }
   ],
   "source": [
    "linksall.shape"
   ]
  },
  {
   "cell_type": "code",
   "execution_count": 147,
   "metadata": {
    "scrolled": true
   },
   "outputs": [
    {
     "data": {
      "text/html": [
       "<div>\n",
       "<style>\n",
       "    .dataframe thead tr:only-child th {\n",
       "        text-align: right;\n",
       "    }\n",
       "\n",
       "    .dataframe thead th {\n",
       "        text-align: left;\n",
       "    }\n",
       "\n",
       "    .dataframe tbody tr th {\n",
       "        vertical-align: top;\n",
       "    }\n",
       "</style>\n",
       "<table border=\"1\" class=\"dataframe\">\n",
       "  <thead>\n",
       "    <tr style=\"text-align: right;\">\n",
       "      <th></th>\n",
       "      <th>linkname</th>\n",
       "    </tr>\n",
       "  </thead>\n",
       "  <tbody>\n",
       "    <tr>\n",
       "      <th>0</th>\n",
       "      <td>https://cointelegraph.com/news/sec-chairman-ja...</td>\n",
       "    </tr>\n",
       "    <tr>\n",
       "      <th>1</th>\n",
       "      <td>https://cointelegraph.com/news/japan-s-financi...</td>\n",
       "    </tr>\n",
       "    <tr>\n",
       "      <th>2</th>\n",
       "      <td>https://cointelegraph.com/news/lexisnexis-part...</td>\n",
       "    </tr>\n",
       "    <tr>\n",
       "      <th>3</th>\n",
       "      <td>https://cointelegraph.com/news/russian-court-a...</td>\n",
       "    </tr>\n",
       "    <tr>\n",
       "      <th>4</th>\n",
       "      <td>https://cointelegraph.com/news/former-sec-chai...</td>\n",
       "    </tr>\n",
       "  </tbody>\n",
       "</table>\n",
       "</div>"
      ],
      "text/plain": [
       "                                            linkname\n",
       "0  https://cointelegraph.com/news/sec-chairman-ja...\n",
       "1  https://cointelegraph.com/news/japan-s-financi...\n",
       "2  https://cointelegraph.com/news/lexisnexis-part...\n",
       "3  https://cointelegraph.com/news/russian-court-a...\n",
       "4  https://cointelegraph.com/news/former-sec-chai..."
      ]
     },
     "execution_count": 147,
     "metadata": {},
     "output_type": "execute_result"
    }
   ],
   "source": [
    "linksall.head()"
   ]
  },
  {
   "cell_type": "code",
   "execution_count": 148,
   "metadata": {},
   "outputs": [],
   "source": [
    "# linksall.columns = [''] * len(linksall.columns)"
   ]
  },
  {
   "cell_type": "code",
   "execution_count": 149,
   "metadata": {},
   "outputs": [
    {
     "data": {
      "text/plain": [
       "(940, 1)"
      ]
     },
     "execution_count": 149,
     "metadata": {},
     "output_type": "execute_result"
    }
   ],
   "source": [
    "linksall.shape"
   ]
  },
  {
   "cell_type": "code",
   "execution_count": 152,
   "metadata": {},
   "outputs": [],
   "source": [
    "linksall['linkname'] = linksall['linkname'].str.strip()"
   ]
  },
  {
   "cell_type": "code",
   "execution_count": 153,
   "metadata": {},
   "outputs": [
    {
     "data": {
      "text/html": [
       "<div>\n",
       "<style>\n",
       "    .dataframe thead tr:only-child th {\n",
       "        text-align: right;\n",
       "    }\n",
       "\n",
       "    .dataframe thead th {\n",
       "        text-align: left;\n",
       "    }\n",
       "\n",
       "    .dataframe tbody tr th {\n",
       "        vertical-align: top;\n",
       "    }\n",
       "</style>\n",
       "<table border=\"1\" class=\"dataframe\">\n",
       "  <thead>\n",
       "    <tr style=\"text-align: right;\">\n",
       "      <th></th>\n",
       "      <th>linkname</th>\n",
       "    </tr>\n",
       "  </thead>\n",
       "  <tbody>\n",
       "    <tr>\n",
       "      <th>0</th>\n",
       "      <td>https://cointelegraph.com/news/sec-chairman-ja...</td>\n",
       "    </tr>\n",
       "    <tr>\n",
       "      <th>1</th>\n",
       "      <td>https://cointelegraph.com/news/japan-s-financi...</td>\n",
       "    </tr>\n",
       "    <tr>\n",
       "      <th>2</th>\n",
       "      <td>https://cointelegraph.com/news/lexisnexis-part...</td>\n",
       "    </tr>\n",
       "    <tr>\n",
       "      <th>3</th>\n",
       "      <td>https://cointelegraph.com/news/russian-court-a...</td>\n",
       "    </tr>\n",
       "    <tr>\n",
       "      <th>4</th>\n",
       "      <td>https://cointelegraph.com/news/former-sec-chai...</td>\n",
       "    </tr>\n",
       "  </tbody>\n",
       "</table>\n",
       "</div>"
      ],
      "text/plain": [
       "                                            linkname\n",
       "0  https://cointelegraph.com/news/sec-chairman-ja...\n",
       "1  https://cointelegraph.com/news/japan-s-financi...\n",
       "2  https://cointelegraph.com/news/lexisnexis-part...\n",
       "3  https://cointelegraph.com/news/russian-court-a...\n",
       "4  https://cointelegraph.com/news/former-sec-chai..."
      ]
     },
     "execution_count": 153,
     "metadata": {},
     "output_type": "execute_result"
    }
   ],
   "source": [
    "linksall.head()"
   ]
  },
  {
   "cell_type": "code",
   "execution_count": 154,
   "metadata": {},
   "outputs": [],
   "source": [
    "linksall['linkname'] = linksall['linkname'].str.replace(\" \",\"\")"
   ]
  },
  {
   "cell_type": "code",
   "execution_count": 155,
   "metadata": {
    "scrolled": true
   },
   "outputs": [
    {
     "data": {
      "text/html": [
       "<div>\n",
       "<style>\n",
       "    .dataframe thead tr:only-child th {\n",
       "        text-align: right;\n",
       "    }\n",
       "\n",
       "    .dataframe thead th {\n",
       "        text-align: left;\n",
       "    }\n",
       "\n",
       "    .dataframe tbody tr th {\n",
       "        vertical-align: top;\n",
       "    }\n",
       "</style>\n",
       "<table border=\"1\" class=\"dataframe\">\n",
       "  <thead>\n",
       "    <tr style=\"text-align: right;\">\n",
       "      <th></th>\n",
       "      <th>linkname</th>\n",
       "    </tr>\n",
       "  </thead>\n",
       "  <tbody>\n",
       "    <tr>\n",
       "      <th>0</th>\n",
       "      <td>https://cointelegraph.com/news/sec-chairman-ja...</td>\n",
       "    </tr>\n",
       "    <tr>\n",
       "      <th>1</th>\n",
       "      <td>https://cointelegraph.com/news/japan-s-financi...</td>\n",
       "    </tr>\n",
       "    <tr>\n",
       "      <th>2</th>\n",
       "      <td>https://cointelegraph.com/news/lexisnexis-part...</td>\n",
       "    </tr>\n",
       "    <tr>\n",
       "      <th>3</th>\n",
       "      <td>https://cointelegraph.com/news/russian-court-a...</td>\n",
       "    </tr>\n",
       "    <tr>\n",
       "      <th>4</th>\n",
       "      <td>https://cointelegraph.com/news/former-sec-chai...</td>\n",
       "    </tr>\n",
       "  </tbody>\n",
       "</table>\n",
       "</div>"
      ],
      "text/plain": [
       "                                            linkname\n",
       "0  https://cointelegraph.com/news/sec-chairman-ja...\n",
       "1  https://cointelegraph.com/news/japan-s-financi...\n",
       "2  https://cointelegraph.com/news/lexisnexis-part...\n",
       "3  https://cointelegraph.com/news/russian-court-a...\n",
       "4  https://cointelegraph.com/news/former-sec-chai..."
      ]
     },
     "execution_count": 155,
     "metadata": {},
     "output_type": "execute_result"
    }
   ],
   "source": [
    "linksall.head()"
   ]
  },
  {
   "cell_type": "code",
   "execution_count": 162,
   "metadata": {},
   "outputs": [
    {
     "data": {
      "text/plain": [
       "'https://cointelegraph.com/news/japan-s-financial-watchdog-rejects-crypto-exchange-license-for-first-time'"
      ]
     },
     "execution_count": 162,
     "metadata": {},
     "output_type": "execute_result"
    }
   ],
   "source": [
    "linksall.iloc[1][0]"
   ]
  },
  {
   "cell_type": "code",
   "execution_count": 166,
   "metadata": {
    "scrolled": true
   },
   "outputs": [],
   "source": [
    "linksall.to_csv(\"linksall.csv\", encoding='utf-8', index=False)"
   ]
  },
  {
   "cell_type": "code",
   "execution_count": null,
   "metadata": {},
   "outputs": [],
   "source": []
  },
  {
   "cell_type": "code",
   "execution_count": null,
   "metadata": {},
   "outputs": [],
   "source": []
  },
  {
   "cell_type": "code",
   "execution_count": 71,
   "metadata": {},
   "outputs": [],
   "source": [
    "page = requests.get(\"https://cointelegraph.com/news/canada-releases-official-draft-of-new-crypto-regulations-focused-on-kyc-aml\")\n",
    "soup = BeautifulSoup(page.content, 'html.parser')"
   ]
  },
  {
   "cell_type": "code",
   "execution_count": 72,
   "metadata": {},
   "outputs": [
    {
     "data": {
      "text/plain": [
       "<div class=\"name\"> <a data-hash=\"true\" data-link=\"aHR0cHM6Ly9jb2ludGVsZWdyYXBoLmNvbS9hdXRob3JzL21heHdlbGwtd2lsbGlhbQ==\" href=\"#\" target=\"_self\">Maxwell William</a> </div>"
      ]
     },
     "execution_count": 72,
     "metadata": {},
     "output_type": "execute_result"
    }
   ],
   "source": [
    "soup.find(class_=\"name\")"
   ]
  },
  {
   "cell_type": "code",
   "execution_count": 74,
   "metadata": {},
   "outputs": [
    {
     "data": {
      "text/plain": [
       "'Maxwell William'"
      ]
     },
     "execution_count": 74,
     "metadata": {},
     "output_type": "execute_result"
    }
   ],
   "source": [
    "soup.find(class_=\"name\").text.strip()"
   ]
  },
  {
   "cell_type": "code",
   "execution_count": 96,
   "metadata": {},
   "outputs": [],
   "source": [
    "soupa=soup.find(class_=\"name\")"
   ]
  },
  {
   "cell_type": "code",
   "execution_count": 97,
   "metadata": {},
   "outputs": [
    {
     "ename": "AttributeError",
     "evalue": "'NoneType' object has no attribute 'get_text'",
     "output_type": "error",
     "traceback": [
      "\u001b[1;31m---------------------------------------------------------------------------\u001b[0m",
      "\u001b[1;31mAttributeError\u001b[0m                            Traceback (most recent call last)",
      "\u001b[1;32m<ipython-input-97-95bba70540a9>\u001b[0m in \u001b[0;36m<module>\u001b[1;34m()\u001b[0m\n\u001b[1;32m----> 1\u001b[1;33m \u001b[0msoupa\u001b[0m\u001b[1;33m.\u001b[0m\u001b[0mget_text\u001b[0m\u001b[1;33m(\u001b[0m\u001b[1;33m)\u001b[0m\u001b[1;33m\u001b[0m\u001b[0m\n\u001b[0m",
      "\u001b[1;31mAttributeError\u001b[0m: 'NoneType' object has no attribute 'get_text'"
     ]
    }
   ],
   "source": [
    "soupa.get_text()"
   ]
  },
  {
   "cell_type": "code",
   "execution_count": null,
   "metadata": {},
   "outputs": [],
   "source": []
  },
  {
   "cell_type": "code",
   "execution_count": 77,
   "metadata": {},
   "outputs": [
    {
     "data": {
      "text/plain": [
       "'Canada Releases Official Draft of New Crypto Regulations Focused on KYC/AML'"
      ]
     },
     "execution_count": 77,
     "metadata": {},
     "output_type": "execute_result"
    }
   ],
   "source": [
    "soup.find(class_=\"header\").text.strip()"
   ]
  },
  {
   "cell_type": "code",
   "execution_count": 78,
   "metadata": {},
   "outputs": [
    {
     "data": {
      "text/plain": [
       "<div class=\"date\" datetime=\"2018-06-11 15:20:21\">JUN 10, 2018</div>"
      ]
     },
     "execution_count": 78,
     "metadata": {},
     "output_type": "execute_result"
    }
   ],
   "source": [
    "soup.find(class_=\"date\")"
   ]
  },
  {
   "cell_type": "code",
   "execution_count": 79,
   "metadata": {},
   "outputs": [
    {
     "data": {
      "text/plain": [
       "'2018-06-11 15:20:21'"
      ]
     },
     "execution_count": 79,
     "metadata": {},
     "output_type": "execute_result"
    }
   ],
   "source": [
    "soup.find(class_=\"date\")['datetime']"
   ]
  },
  {
   "cell_type": "code",
   "execution_count": 84,
   "metadata": {},
   "outputs": [],
   "source": [
    "soupv = soup.find(class_=\"referral_stats total-views\")"
   ]
  },
  {
   "cell_type": "code",
   "execution_count": 87,
   "metadata": {},
   "outputs": [
    {
     "data": {
      "text/plain": [
       "'37937'"
      ]
     },
     "execution_count": 87,
     "metadata": {},
     "output_type": "execute_result"
    }
   ],
   "source": [
    "soupv.find(class_=\"total-qty\").text.strip()"
   ]
  },
  {
   "cell_type": "code",
   "execution_count": 90,
   "metadata": {},
   "outputs": [
    {
     "data": {
      "text/plain": [
       "<p dir=\"ltr\">The Canadian government has released an official draft of new regulations on crypto exchanges and payment processors, Canada Gazette <a href=\"http://www.gazette.gc.ca/rp-pr/p1/2018/2018-06-09/html/reg1-eng.html\" rel=\"nofollow,noopener\" target=\"_blank\">reports</a> June 9.</p>"
      ]
     },
     "execution_count": 90,
     "metadata": {},
     "output_type": "execute_result"
    }
   ],
   "source": [
    "soup.find(class_=\"post-full-text contents js-post-full-text\").p"
   ]
  },
  {
   "cell_type": "code",
   "execution_count": 91,
   "metadata": {},
   "outputs": [
    {
     "data": {
      "text/plain": [
       "<span class=\"comments-count\">4</span>"
      ]
     },
     "execution_count": 91,
     "metadata": {},
     "output_type": "execute_result"
    }
   ],
   "source": [
    "soup.find(class_=\"comments-count\")"
   ]
  },
  {
   "cell_type": "code",
   "execution_count": 163,
   "metadata": {
    "scrolled": true
   },
   "outputs": [
    {
     "ename": "MissingSchema",
     "evalue": "Invalid URL 'linkname': No schema supplied. Perhaps you meant http://linkname?",
     "output_type": "error",
     "traceback": [
      "\u001b[1;31m---------------------------------------------------------------------------\u001b[0m",
      "\u001b[1;31mMissingSchema\u001b[0m                             Traceback (most recent call last)",
      "\u001b[1;32m<ipython-input-163-41b19ff09287>\u001b[0m in \u001b[0;36m<module>\u001b[1;34m()\u001b[0m\n\u001b[0;32m      1\u001b[0m \u001b[0mresult\u001b[0m\u001b[1;33m=\u001b[0m\u001b[1;33m[\u001b[0m\u001b[1;33m]\u001b[0m\u001b[1;33m\u001b[0m\u001b[0m\n\u001b[0;32m      2\u001b[0m \u001b[1;32mfor\u001b[0m \u001b[0mlink\u001b[0m \u001b[1;32min\u001b[0m \u001b[0mlinksall\u001b[0m\u001b[1;33m:\u001b[0m\u001b[1;33m\u001b[0m\u001b[0m\n\u001b[1;32m----> 3\u001b[1;33m     \u001b[0mpage\u001b[0m \u001b[1;33m=\u001b[0m \u001b[0mrequests\u001b[0m\u001b[1;33m.\u001b[0m\u001b[0mget\u001b[0m\u001b[1;33m(\u001b[0m\u001b[0mlink\u001b[0m\u001b[1;33m)\u001b[0m\u001b[1;33m\u001b[0m\u001b[0m\n\u001b[0m\u001b[0;32m      4\u001b[0m     \u001b[0msoup\u001b[0m \u001b[1;33m=\u001b[0m \u001b[0mBeautifulSoup\u001b[0m\u001b[1;33m(\u001b[0m\u001b[0mpage\u001b[0m\u001b[1;33m.\u001b[0m\u001b[0mcontent\u001b[0m\u001b[1;33m,\u001b[0m \u001b[1;34m'html.parser'\u001b[0m\u001b[1;33m)\u001b[0m\u001b[1;33m\u001b[0m\u001b[0m\n\u001b[0;32m      5\u001b[0m     \u001b[0msoupa\u001b[0m \u001b[1;33m=\u001b[0m \u001b[0msoup\u001b[0m\u001b[1;33m.\u001b[0m\u001b[0mfind\u001b[0m\u001b[1;33m(\u001b[0m\u001b[0mclass_\u001b[0m\u001b[1;33m=\u001b[0m\u001b[1;34m\"name\"\u001b[0m\u001b[1;33m)\u001b[0m\u001b[1;33m\u001b[0m\u001b[0m\n",
      "\u001b[1;32m~\\Anaconda3\\lib\\site-packages\\requests\\api.py\u001b[0m in \u001b[0;36mget\u001b[1;34m(url, params, **kwargs)\u001b[0m\n\u001b[0;32m     70\u001b[0m \u001b[1;33m\u001b[0m\u001b[0m\n\u001b[0;32m     71\u001b[0m     \u001b[0mkwargs\u001b[0m\u001b[1;33m.\u001b[0m\u001b[0msetdefault\u001b[0m\u001b[1;33m(\u001b[0m\u001b[1;34m'allow_redirects'\u001b[0m\u001b[1;33m,\u001b[0m \u001b[1;32mTrue\u001b[0m\u001b[1;33m)\u001b[0m\u001b[1;33m\u001b[0m\u001b[0m\n\u001b[1;32m---> 72\u001b[1;33m     \u001b[1;32mreturn\u001b[0m \u001b[0mrequest\u001b[0m\u001b[1;33m(\u001b[0m\u001b[1;34m'get'\u001b[0m\u001b[1;33m,\u001b[0m \u001b[0murl\u001b[0m\u001b[1;33m,\u001b[0m \u001b[0mparams\u001b[0m\u001b[1;33m=\u001b[0m\u001b[0mparams\u001b[0m\u001b[1;33m,\u001b[0m \u001b[1;33m**\u001b[0m\u001b[0mkwargs\u001b[0m\u001b[1;33m)\u001b[0m\u001b[1;33m\u001b[0m\u001b[0m\n\u001b[0m\u001b[0;32m     73\u001b[0m \u001b[1;33m\u001b[0m\u001b[0m\n\u001b[0;32m     74\u001b[0m \u001b[1;33m\u001b[0m\u001b[0m\n",
      "\u001b[1;32m~\\Anaconda3\\lib\\site-packages\\requests\\api.py\u001b[0m in \u001b[0;36mrequest\u001b[1;34m(method, url, **kwargs)\u001b[0m\n\u001b[0;32m     56\u001b[0m     \u001b[1;31m# cases, and look like a memory leak in others.\u001b[0m\u001b[1;33m\u001b[0m\u001b[1;33m\u001b[0m\u001b[0m\n\u001b[0;32m     57\u001b[0m     \u001b[1;32mwith\u001b[0m \u001b[0msessions\u001b[0m\u001b[1;33m.\u001b[0m\u001b[0mSession\u001b[0m\u001b[1;33m(\u001b[0m\u001b[1;33m)\u001b[0m \u001b[1;32mas\u001b[0m \u001b[0msession\u001b[0m\u001b[1;33m:\u001b[0m\u001b[1;33m\u001b[0m\u001b[0m\n\u001b[1;32m---> 58\u001b[1;33m         \u001b[1;32mreturn\u001b[0m \u001b[0msession\u001b[0m\u001b[1;33m.\u001b[0m\u001b[0mrequest\u001b[0m\u001b[1;33m(\u001b[0m\u001b[0mmethod\u001b[0m\u001b[1;33m=\u001b[0m\u001b[0mmethod\u001b[0m\u001b[1;33m,\u001b[0m \u001b[0murl\u001b[0m\u001b[1;33m=\u001b[0m\u001b[0murl\u001b[0m\u001b[1;33m,\u001b[0m \u001b[1;33m**\u001b[0m\u001b[0mkwargs\u001b[0m\u001b[1;33m)\u001b[0m\u001b[1;33m\u001b[0m\u001b[0m\n\u001b[0m\u001b[0;32m     59\u001b[0m \u001b[1;33m\u001b[0m\u001b[0m\n\u001b[0;32m     60\u001b[0m \u001b[1;33m\u001b[0m\u001b[0m\n",
      "\u001b[1;32m~\\Anaconda3\\lib\\site-packages\\requests\\sessions.py\u001b[0m in \u001b[0;36mrequest\u001b[1;34m(self, method, url, params, data, headers, cookies, files, auth, timeout, allow_redirects, proxies, hooks, stream, verify, cert, json)\u001b[0m\n\u001b[0;32m    492\u001b[0m             \u001b[0mhooks\u001b[0m\u001b[1;33m=\u001b[0m\u001b[0mhooks\u001b[0m\u001b[1;33m,\u001b[0m\u001b[1;33m\u001b[0m\u001b[0m\n\u001b[0;32m    493\u001b[0m         )\n\u001b[1;32m--> 494\u001b[1;33m         \u001b[0mprep\u001b[0m \u001b[1;33m=\u001b[0m \u001b[0mself\u001b[0m\u001b[1;33m.\u001b[0m\u001b[0mprepare_request\u001b[0m\u001b[1;33m(\u001b[0m\u001b[0mreq\u001b[0m\u001b[1;33m)\u001b[0m\u001b[1;33m\u001b[0m\u001b[0m\n\u001b[0m\u001b[0;32m    495\u001b[0m \u001b[1;33m\u001b[0m\u001b[0m\n\u001b[0;32m    496\u001b[0m         \u001b[0mproxies\u001b[0m \u001b[1;33m=\u001b[0m \u001b[0mproxies\u001b[0m \u001b[1;32mor\u001b[0m \u001b[1;33m{\u001b[0m\u001b[1;33m}\u001b[0m\u001b[1;33m\u001b[0m\u001b[0m\n",
      "\u001b[1;32m~\\Anaconda3\\lib\\site-packages\\requests\\sessions.py\u001b[0m in \u001b[0;36mprepare_request\u001b[1;34m(self, request)\u001b[0m\n\u001b[0;32m    435\u001b[0m             \u001b[0mauth\u001b[0m\u001b[1;33m=\u001b[0m\u001b[0mmerge_setting\u001b[0m\u001b[1;33m(\u001b[0m\u001b[0mauth\u001b[0m\u001b[1;33m,\u001b[0m \u001b[0mself\u001b[0m\u001b[1;33m.\u001b[0m\u001b[0mauth\u001b[0m\u001b[1;33m)\u001b[0m\u001b[1;33m,\u001b[0m\u001b[1;33m\u001b[0m\u001b[0m\n\u001b[0;32m    436\u001b[0m             \u001b[0mcookies\u001b[0m\u001b[1;33m=\u001b[0m\u001b[0mmerged_cookies\u001b[0m\u001b[1;33m,\u001b[0m\u001b[1;33m\u001b[0m\u001b[0m\n\u001b[1;32m--> 437\u001b[1;33m             \u001b[0mhooks\u001b[0m\u001b[1;33m=\u001b[0m\u001b[0mmerge_hooks\u001b[0m\u001b[1;33m(\u001b[0m\u001b[0mrequest\u001b[0m\u001b[1;33m.\u001b[0m\u001b[0mhooks\u001b[0m\u001b[1;33m,\u001b[0m \u001b[0mself\u001b[0m\u001b[1;33m.\u001b[0m\u001b[0mhooks\u001b[0m\u001b[1;33m)\u001b[0m\u001b[1;33m,\u001b[0m\u001b[1;33m\u001b[0m\u001b[0m\n\u001b[0m\u001b[0;32m    438\u001b[0m         )\n\u001b[0;32m    439\u001b[0m         \u001b[1;32mreturn\u001b[0m \u001b[0mp\u001b[0m\u001b[1;33m\u001b[0m\u001b[0m\n",
      "\u001b[1;32m~\\Anaconda3\\lib\\site-packages\\requests\\models.py\u001b[0m in \u001b[0;36mprepare\u001b[1;34m(self, method, url, headers, files, data, params, auth, cookies, hooks, json)\u001b[0m\n\u001b[0;32m    303\u001b[0m \u001b[1;33m\u001b[0m\u001b[0m\n\u001b[0;32m    304\u001b[0m         \u001b[0mself\u001b[0m\u001b[1;33m.\u001b[0m\u001b[0mprepare_method\u001b[0m\u001b[1;33m(\u001b[0m\u001b[0mmethod\u001b[0m\u001b[1;33m)\u001b[0m\u001b[1;33m\u001b[0m\u001b[0m\n\u001b[1;32m--> 305\u001b[1;33m         \u001b[0mself\u001b[0m\u001b[1;33m.\u001b[0m\u001b[0mprepare_url\u001b[0m\u001b[1;33m(\u001b[0m\u001b[0murl\u001b[0m\u001b[1;33m,\u001b[0m \u001b[0mparams\u001b[0m\u001b[1;33m)\u001b[0m\u001b[1;33m\u001b[0m\u001b[0m\n\u001b[0m\u001b[0;32m    306\u001b[0m         \u001b[0mself\u001b[0m\u001b[1;33m.\u001b[0m\u001b[0mprepare_headers\u001b[0m\u001b[1;33m(\u001b[0m\u001b[0mheaders\u001b[0m\u001b[1;33m)\u001b[0m\u001b[1;33m\u001b[0m\u001b[0m\n\u001b[0;32m    307\u001b[0m         \u001b[0mself\u001b[0m\u001b[1;33m.\u001b[0m\u001b[0mprepare_cookies\u001b[0m\u001b[1;33m(\u001b[0m\u001b[0mcookies\u001b[0m\u001b[1;33m)\u001b[0m\u001b[1;33m\u001b[0m\u001b[0m\n",
      "\u001b[1;32m~\\Anaconda3\\lib\\site-packages\\requests\\models.py\u001b[0m in \u001b[0;36mprepare_url\u001b[1;34m(self, url, params)\u001b[0m\n\u001b[0;32m    377\u001b[0m             \u001b[0merror\u001b[0m \u001b[1;33m=\u001b[0m \u001b[0merror\u001b[0m\u001b[1;33m.\u001b[0m\u001b[0mformat\u001b[0m\u001b[1;33m(\u001b[0m\u001b[0mto_native_string\u001b[0m\u001b[1;33m(\u001b[0m\u001b[0murl\u001b[0m\u001b[1;33m,\u001b[0m \u001b[1;34m'utf8'\u001b[0m\u001b[1;33m)\u001b[0m\u001b[1;33m)\u001b[0m\u001b[1;33m\u001b[0m\u001b[0m\n\u001b[0;32m    378\u001b[0m \u001b[1;33m\u001b[0m\u001b[0m\n\u001b[1;32m--> 379\u001b[1;33m             \u001b[1;32mraise\u001b[0m \u001b[0mMissingSchema\u001b[0m\u001b[1;33m(\u001b[0m\u001b[0merror\u001b[0m\u001b[1;33m)\u001b[0m\u001b[1;33m\u001b[0m\u001b[0m\n\u001b[0m\u001b[0;32m    380\u001b[0m \u001b[1;33m\u001b[0m\u001b[0m\n\u001b[0;32m    381\u001b[0m         \u001b[1;32mif\u001b[0m \u001b[1;32mnot\u001b[0m \u001b[0mhost\u001b[0m\u001b[1;33m:\u001b[0m\u001b[1;33m\u001b[0m\u001b[0m\n",
      "\u001b[1;31mMissingSchema\u001b[0m: Invalid URL 'linkname': No schema supplied. Perhaps you meant http://linkname?"
     ]
    }
   ],
   "source": [
    "result=[]\n",
    "for link in linksall:\n",
    "    page = requests.get(link)\n",
    "    soup = BeautifulSoup(page.content, 'html.parser')\n",
    "    soupa = soup.find(class_=\"name\")\n",
    "#     soupt = soup.find(class_=\"header\")\n",
    "#     soupd = soup.find(class_=\"date\")\n",
    "#     soupv = soup.find(class_=\"referral_stats total-views\")\n",
    "#     soups = soup.find(class_=\"referral_stats total-shares\")\n",
    "#     soupb = soup.find(class_=\"post-full-text contents js-post-full-text\")\n",
    "#     soupc = soup.find(class_=\"comments-count\")\n",
    "    \n",
    "    try:\n",
    "        author = soup.find(class_=\"name\").text.strip()\n",
    "    except Exception:\n",
    "        author = []\n",
    "    result.append(author)"
   ]
  },
  {
   "cell_type": "code",
   "execution_count": 103,
   "metadata": {},
   "outputs": [
    {
     "data": {
      "text/plain": [
       "['Maxwell William']"
      ]
     },
     "execution_count": 103,
     "metadata": {},
     "output_type": "execute_result"
    }
   ],
   "source": [
    "result"
   ]
  },
  {
   "cell_type": "code",
   "execution_count": null,
   "metadata": {},
   "outputs": [],
   "source": []
  },
  {
   "cell_type": "code",
   "execution_count": 167,
   "metadata": {},
   "outputs": [
    {
     "data": {
      "text/plain": [
       "0    https://cointelegraph.com/news/sec-chairman-ja...\n",
       "1    https://cointelegraph.com/news/japan-s-financi...\n",
       "2    https://cointelegraph.com/news/lexisnexis-part...\n",
       "3    https://cointelegraph.com/news/russian-court-a...\n",
       "4    https://cointelegraph.com/news/former-sec-chai...\n",
       "5    https://cointelegraph.com/news/sec-names-new-s...\n",
       "6    https://cointelegraph.com/news/former-us-feder...\n",
       "7    https://cointelegraph.com/news/spain-introduce...\n",
       "8    https://cointelegraph.com/news/new-york-state-...\n",
       "Name: linkname, dtype: object"
      ]
     },
     "execution_count": 167,
     "metadata": {},
     "output_type": "execute_result"
    }
   ],
   "source": [
    "linksall.linkname[0:9]"
   ]
  },
  {
   "cell_type": "code",
   "execution_count": 184,
   "metadata": {},
   "outputs": [],
   "source": [
    "result6=[]\n",
    "for link in linksall.linkname[0:3]:\n",
    "    page = requests.get(link)\n",
    "    soup = BeautifulSoup(page.content, 'html.parser')\n",
    "#     soupa = soup.find(class_=\"name\")\n",
    "#     soupt = soup.find(class_=\"header\")\n",
    "#     soupd = soup.find(class_=\"date\")\n",
    "#     soupv = soup.find(class_=\"referral_stats total-views\")\n",
    "#     soups = soup.find(class_=\"referral_stats total-shares\")\n",
    "    soupb = soup.find(class_=\"post-full-text contents js-post-full-text\")\n",
    "#     soupc = soup.find(class_=\"comments-count\")\n",
    "    text =\"\"\n",
    "    texts = soupb.find_all(\"p\")\n",
    "    for row in texts:\n",
    "        text += row.get_text()\n",
    "    try:\n",
    "        abody = text\n",
    "    except Exception:\n",
    "        abody = []\n",
    "    result6.append(abody)"
   ]
  },
  {
   "cell_type": "code",
   "execution_count": 169,
   "metadata": {},
   "outputs": [
    {
     "data": {
      "text/plain": [
       "['Molly Jane Zuckerman', 'Marie Huillet', 'Helen Partz', 'Helen Partz']"
      ]
     },
     "execution_count": 169,
     "metadata": {},
     "output_type": "execute_result"
    }
   ],
   "source": [
    "result"
   ]
  },
  {
   "cell_type": "code",
   "execution_count": 171,
   "metadata": {},
   "outputs": [
    {
     "data": {
      "text/plain": [
       "['SEC Chairman Jay Clayton Says Bitcoin Not a Security, Most ICOs Likely Are',\n",
       " \"Japan's Financial Watchdog Rejects Crypto Exchange License for First Time\",\n",
       " 'LexisNexis Partners With Australian Crypto Exchange Blockbid to Increase Security']"
      ]
     },
     "execution_count": 171,
     "metadata": {},
     "output_type": "execute_result"
    }
   ],
   "source": [
    "result2"
   ]
  },
  {
   "cell_type": "code",
   "execution_count": 175,
   "metadata": {},
   "outputs": [
    {
     "data": {
      "text/plain": [
       "['2018-06-07 16:05:19', '2018-06-07 13:15:18', '2018-06-05 13:45:18']"
      ]
     },
     "execution_count": 175,
     "metadata": {},
     "output_type": "execute_result"
    }
   ],
   "source": [
    "result3"
   ]
  },
  {
   "cell_type": "code",
   "execution_count": 179,
   "metadata": {},
   "outputs": [
    {
     "data": {
      "text/plain": [
       "['21372', '8143', '18988']"
      ]
     },
     "execution_count": 179,
     "metadata": {},
     "output_type": "execute_result"
    }
   ],
   "source": [
    "result4"
   ]
  },
  {
   "cell_type": "code",
   "execution_count": 181,
   "metadata": {},
   "outputs": [
    {
     "data": {
      "text/plain": [
       "['422', '158', '205']"
      ]
     },
     "execution_count": 181,
     "metadata": {},
     "output_type": "execute_result"
    }
   ],
   "source": [
    "result5"
   ]
  },
  {
   "cell_type": "code",
   "execution_count": 185,
   "metadata": {
    "scrolled": true
   },
   "outputs": [
    {
     "data": {
      "text/plain": [
       "['Jay Clayton, the chair of the US Securities and Exchange Commission (SEC), believes that Bitcoin (BTC) is not a security since it acts as a replacement for sovereign currencies, CNBC reports today, June 6.Clayton, when speaking about the “incredible promise” of distributed ledger technologies driving efficiencies in markets, clarified during today’s CNBC interview his thoughts on cryptocurrencies that are “replacements for sovereign currencies:”“Replace the dollar, the yen, the euro with Bitcoin. That type of currency is not a security.”While Clayton did not comment on specific assets besides Bitcoin about their status as securities, he went on to explain that what he considers to be securities are tokens that act as digital assets:“Where I give you my money and you go off and make a venture […] and in return for me giving you my money, you say, ‘You know what, I’m going to give you a return.’ That is a security, and we regulate that. We regulate the offering of that security, and we regulate the trading of that security.”When asked to make clear his statement on whether Initial Coin Offerings (ICO) are securities, Clayton told the interviewers, CNBC’s Bob Pisani, “Bob, I just did.”Clayton added that the SEC won’t support changing the definition of a security to support the ICO community, as they are not “going to do any violence to the traditional definition of a security which has worked well for a long time.”The SEC chair had previously praised distributed ledger tech, blockchain as an example, during February’s SEC and Commodity Futures Trading Commission (CFTC) cryptocurrency hearing. At the time, Clayton had noted that every ICO that the SEC had seen so far would be considered a security.Altcoins Ethereum (ETH) and Ripple (XRP) have come up in the cryptocurrency security question, with Joseph Lubin of Ethereum emphatically denying that ETH was ever a security, and Ripple similarly rejecting a security classification.Ripple is now facing a class action lawsuit from a disgruntled investor claiming that the sale of XRP is the sale of an unregistered security, with a former SEC chair recently appointed to represent Ripple in court.',\n",
       " 'Japan’s Financial Services Agency (FSA) has barred a crypto exchange from receiving an operating license for the first time, Nikkei Asian Review reports Tuesday, June 5.The regulator has now chosen to permanently deny registration to Yokohama-based FSHO, whose services were already suspended twice by the FSA this spring, over concerns the exchange operator did not sufficiently verify the identity of customers in cases of suspect transactions.The FSA has now reportedly concluded that FSHO lacks “the necessary systems to operate its business.”FSHO is one of only two crypto exchanges in Japan to have received two consecutive punishment notices from the FSA, the other being Coincheck, whose unprecedented $532 mln hack in January remains the biggest confirmed crypto theft in the industry’s history.By barring an exchange whose practices it considers unacceptable, the financial watchdog appears to be making good on its intent to clean-up Japan’s crypto industry, in the wake of both Coincheck and the notorious collapse of Tokyo-based Mt. Gox back in 2014.Since April 2017, Japan’s Payment Services Act has required all crypto exchanges to be registered under an FSA license, with the first licenses being approved in September. This May, the regulator yet further toughened its license stipulations, placing an emphasis on AML and KYC compliance, and banning the trading of anonymity-oriented altcoins, such as Dash (DASH) and Monero (XMR).Nonetheless, the country continues to show exceptional crypto adoption levels. The FSA’s data from 17 domestic crypto exchanges found that as of the end of March 2018, there were at least 3.5 mln crypto traders in the country. Figures from CryptoCompare indicate that the Japanese Yen accounts for a staggering 59% of global Bitcoin trades as of press time.This makes it an attractive market for foreign capital, with leading US crypto exchange Coinbase this week revealing its plans to expand its services to Japan “within the year.” This month, Japanese crypto exchange BitTrade was bought for $50 mln by a Singaporean entrepreneur, who became the first foreign investor to hold a 100 percent stake in an FSA-licensed trading platform.A leading Japanese fintech company has also recently announced it would be launching a crypto asset exchange within the year.',\n",
       " 'Risk management giant LexisNexis has partnered with crypto exchange Blockbid to increase the exchanges security measures Blockbid reports on its Medium account June 4. Blockbid is reportedly one of the first trading platforms to voluntarily observe global anti-money laundering (AML) measures by partnering with LexisNexis and ThreatMetrix security technology firms.Boosting fraud prevention and know your customer (KYC) measures in respect to banks, the solution “Trade with Confidence” intends to prevent crypto being used in cases of money laundering, terrorism financing, human trafficking, and other illegal activity.According to the blog post, the newly adopted technology by Melbourne-based exchange Blockbid combines physical and digital identity data, government-issued identifiers, addresses, and biometrics with device identification, geolocation, behavioral analysis, and threat intelligence.Thomas C. Brown, senior vice president of US commercial markets and global market development at LexisNexis Risk Solutions, claimed that the “Trade with Confidence” system would increase public confidence by deploying the same regulatory tools as those used by major banks.“Implementing similar controls that the biggest banks in the world use adds credibility to cryptocurrency exchanges from a regulator point of view and instils consumer confidence. Ultimately these safeguards provide a solid foundation on which Blockbid and other companies can grow, profitably.”US-based LexisNexis Risk Solutions was founded in the 1970s as a subsidiary of global information and analytics company RELX Group (LSE: REL/NYSE: RELX), the firm currently has about 10,000 employees according to its LinkedIn profile.Regulatory agencies and governments have expressed trepidation about crypto due to its alleged uses for terrorism financing, money laundering, and other illicit activities. Earlier this year, a US congressman called crypto a “crock,” stating that its only possible use could be for illegal activities. Last week, the Dutch government released a report in which they found that, while crypto posed a low risk to the country’s financial system, they still noted its possible use for funding illicit behavior.Conversely, the Hong Kong Financial Services and Treasury (FSTB) released a report on May 1, stating that cryptocurrencies do not create any visible impact in money laundering and terrorism financing. Earlier today, a former US federal prosecutor noted in an interview that more criminal activity is sponsored with fiat currency than with crypto.']"
      ]
     },
     "execution_count": 185,
     "metadata": {},
     "output_type": "execute_result"
    }
   ],
   "source": [
    "result6"
   ]
  },
  {
   "cell_type": "code",
   "execution_count": 186,
   "metadata": {},
   "outputs": [],
   "source": [
    "result7=[]\n",
    "for link in linksall.linkname[0:3]:\n",
    "    page = requests.get(link)\n",
    "    soup = BeautifulSoup(page.content, 'html.parser')\n",
    "#     soupa = soup.find(class_=\"name\")\n",
    "#     soupt = soup.find(class_=\"header\")\n",
    "#     soupd = soup.find(class_=\"date\")\n",
    "#     soupv = soup.find(class_=\"referral_stats total-views\")\n",
    "#     soups = soup.find(class_=\"referral_stats total-shares\")\n",
    "#     soupb = soup.find(class_=\"post-full-text contents js-post-full-text\")\n",
    "    soupc = soup.find(class_=\"comments-count\")\n",
    "#     text =\"\"\n",
    "#     texts = soupb.find_all(\"p\")\n",
    "#     for row in texts:\n",
    "#         text += row.get_text()\n",
    "    try:\n",
    "        comments = soupc.text.strip()\n",
    "    except Exception:\n",
    "        comments = []\n",
    "    result7.append(comments)"
   ]
  },
  {
   "cell_type": "code",
   "execution_count": 187,
   "metadata": {},
   "outputs": [
    {
     "data": {
      "text/plain": [
       "['5', [], []]"
      ]
     },
     "execution_count": 187,
     "metadata": {},
     "output_type": "execute_result"
    }
   ],
   "source": [
    "result7"
   ]
  },
  {
   "cell_type": "code",
   "execution_count": 229,
   "metadata": {
    "scrolled": true
   },
   "outputs": [
    {
     "name": "stdout",
     "output_type": "stream",
     "text": [
      "Wall time: 1h 30min 59s\n"
     ]
    }
   ],
   "source": [
    "%%time\n",
    "\n",
    "title=[]\n",
    "author=[]\n",
    "dt=[]\n",
    "views=[]\n",
    "shares=[]\n",
    "abody=[]\n",
    "comments=[]\n",
    "\n",
    "for link in linksall.linkname:\n",
    "    page = requests.get(link)\n",
    "    soup = BeautifulSoup(page.content, 'html.parser')\n",
    "    soupa = soup.find(class_=\"name\")\n",
    "    soupt = soup.find(class_=\"header\")\n",
    "    soupd = soup.find(class_=\"date\")\n",
    "    soupv = soup.find(class_=\"referral_stats total-views\")\n",
    "    soups = soup.find(class_=\"referral_stats total-shares\")\n",
    "    soupb = soup.find(class_=\"post-full-text contents js-post-full-text\")\n",
    "    soupc = soup.find(class_=\"comments-count\")\n",
    "    text =\"\"\n",
    "    texts = soupb.find_all(\"p\")\n",
    "    for row in texts:\n",
    "        text += row.get_text()\n",
    "\n",
    "    author1 = soupa.text.strip()\n",
    "    title1 = soupt.text.strip()\n",
    "    dt1 = soupd['datetime']\n",
    "    views1 = soupv.find(class_=\"total-qty\").text.strip()\n",
    "    shares1 = soups.find(class_=\"total-qty\").text.strip()\n",
    "    abody1 = text\n",
    "\n",
    "    try:\n",
    "        comments1 = soupc.text.strip()\n",
    "    except Exception:\n",
    "        comments1 = []\n",
    "    title.append(title1)\n",
    "    author.append(author1)\n",
    "    dt.append(dt1)\n",
    "    views.append(views1)\n",
    "    shares.append(shares1)\n",
    "    abody.append(abody1)\n",
    "    comments.append(comments1)"
   ]
  },
  {
   "cell_type": "code",
   "execution_count": 230,
   "metadata": {},
   "outputs": [],
   "source": [
    "df = pd.DataFrame()\n",
    "df = df.fillna(0) # with 0s rather than NaNs"
   ]
  },
  {
   "cell_type": "code",
   "execution_count": 231,
   "metadata": {},
   "outputs": [
    {
     "data": {
      "text/plain": [
       "(0, 0)"
      ]
     },
     "execution_count": 231,
     "metadata": {},
     "output_type": "execute_result"
    }
   ],
   "source": [
    "df.shape"
   ]
  },
  {
   "cell_type": "code",
   "execution_count": 234,
   "metadata": {},
   "outputs": [
    {
     "data": {
      "text/html": [
       "<div>\n",
       "<style>\n",
       "    .dataframe thead tr:only-child th {\n",
       "        text-align: right;\n",
       "    }\n",
       "\n",
       "    .dataframe thead th {\n",
       "        text-align: left;\n",
       "    }\n",
       "\n",
       "    .dataframe tbody tr th {\n",
       "        vertical-align: top;\n",
       "    }\n",
       "</style>\n",
       "<table border=\"1\" class=\"dataframe\">\n",
       "  <thead>\n",
       "    <tr style=\"text-align: right;\">\n",
       "      <th></th>\n",
       "      <th>title</th>\n",
       "      <th>author</th>\n",
       "      <th>dt</th>\n",
       "      <th>views</th>\n",
       "      <th>shares</th>\n",
       "      <th>abody</th>\n",
       "      <th>comments</th>\n",
       "    </tr>\n",
       "  </thead>\n",
       "  <tbody>\n",
       "    <tr>\n",
       "      <th>0</th>\n",
       "      <td>SEC Chairman Jay Clayton Says Bitcoin Not a Se...</td>\n",
       "      <td>Molly Jane Zuckerman</td>\n",
       "      <td>2018-06-07 16:05:19</td>\n",
       "      <td>21383</td>\n",
       "      <td>422</td>\n",
       "      <td>Jay Clayton, the chair of the US Securities an...</td>\n",
       "      <td>5</td>\n",
       "    </tr>\n",
       "    <tr>\n",
       "      <th>1</th>\n",
       "      <td>Japan's Financial Watchdog Rejects Crypto Exch...</td>\n",
       "      <td>Marie Huillet</td>\n",
       "      <td>2018-06-07 13:15:18</td>\n",
       "      <td>8146</td>\n",
       "      <td>158</td>\n",
       "      <td>Japan’s Financial Services Agency (FSA) has ba...</td>\n",
       "      <td>[]</td>\n",
       "    </tr>\n",
       "    <tr>\n",
       "      <th>2</th>\n",
       "      <td>LexisNexis Partners With Australian Crypto Exc...</td>\n",
       "      <td>Helen Partz</td>\n",
       "      <td>2018-06-05 13:45:18</td>\n",
       "      <td>18990</td>\n",
       "      <td>205</td>\n",
       "      <td>Risk management giant LexisNexis has partnered...</td>\n",
       "      <td>[]</td>\n",
       "    </tr>\n",
       "    <tr>\n",
       "      <th>3</th>\n",
       "      <td>Russian Court Annuls Previous Decision to Bloc...</td>\n",
       "      <td>Helen Partz</td>\n",
       "      <td>2018-06-05 12:15:14</td>\n",
       "      <td>10605</td>\n",
       "      <td>211</td>\n",
       "      <td>The City Court of St. Petersburg, Russia has o...</td>\n",
       "      <td>[]</td>\n",
       "    </tr>\n",
       "    <tr>\n",
       "      <th>4</th>\n",
       "      <td>Former SEC Chair Represents Ripple in Lawsuit ...</td>\n",
       "      <td>Ana Alexandre</td>\n",
       "      <td>2018-06-05 12:56:15</td>\n",
       "      <td>14094</td>\n",
       "      <td>172</td>\n",
       "      <td>Fintech company Ripple Labs has employed Debev...</td>\n",
       "      <td>1</td>\n",
       "    </tr>\n",
       "    <tr>\n",
       "      <th>5</th>\n",
       "      <td>SEC Names New Senior Advisor to Oversee Crypto...</td>\n",
       "      <td>Marie Huillet</td>\n",
       "      <td>2018-06-05 20:05:25</td>\n",
       "      <td>9216</td>\n",
       "      <td>192</td>\n",
       "      <td>The U.S. Securities and Exchange Commission (S...</td>\n",
       "      <td>[]</td>\n",
       "    </tr>\n",
       "    <tr>\n",
       "      <th>6</th>\n",
       "      <td>Former US Federal Prosecutor at Money20/20: ‘A...</td>\n",
       "      <td>Marie Huillet</td>\n",
       "      <td>2018-06-05 06:19:57</td>\n",
       "      <td>7957</td>\n",
       "      <td>321</td>\n",
       "      <td>Former U.S. Federal Prosecutor Mary Beth Bucha...</td>\n",
       "      <td>[]</td>\n",
       "    </tr>\n",
       "    <tr>\n",
       "      <th>7</th>\n",
       "      <td>Spain Introduces Innovation-Aimed Crypto Regul...</td>\n",
       "      <td>Stephen O'Neal</td>\n",
       "      <td>2018-06-05 05:45:40</td>\n",
       "      <td>13978</td>\n",
       "      <td>285</td>\n",
       "      <td>On May 30, the Spanish Congress unanimously su...</td>\n",
       "      <td>8</td>\n",
       "    </tr>\n",
       "    <tr>\n",
       "      <th>8</th>\n",
       "      <td>New York State Legislature Proposes Creation o...</td>\n",
       "      <td>Ana Alexandre</td>\n",
       "      <td>2018-06-04 13:20:17</td>\n",
       "      <td>22454</td>\n",
       "      <td>263</td>\n",
       "      <td>The banks committee of the New York state legi...</td>\n",
       "      <td>1</td>\n",
       "    </tr>\n",
       "    <tr>\n",
       "      <th>9</th>\n",
       "      <td>Japan: Financial Watchdog Probes Crypto Exchan...</td>\n",
       "      <td>Marie Huillet</td>\n",
       "      <td>2018-06-02 08:27:47</td>\n",
       "      <td>17063</td>\n",
       "      <td>165</td>\n",
       "      <td>Japan’s Financial Services Agency (FSA) has is...</td>\n",
       "      <td>11</td>\n",
       "    </tr>\n",
       "  </tbody>\n",
       "</table>\n",
       "</div>"
      ],
      "text/plain": [
       "                                               title                author  \\\n",
       "0  SEC Chairman Jay Clayton Says Bitcoin Not a Se...  Molly Jane Zuckerman   \n",
       "1  Japan's Financial Watchdog Rejects Crypto Exch...         Marie Huillet   \n",
       "2  LexisNexis Partners With Australian Crypto Exc...           Helen Partz   \n",
       "3  Russian Court Annuls Previous Decision to Bloc...           Helen Partz   \n",
       "4  Former SEC Chair Represents Ripple in Lawsuit ...         Ana Alexandre   \n",
       "5  SEC Names New Senior Advisor to Oversee Crypto...         Marie Huillet   \n",
       "6  Former US Federal Prosecutor at Money20/20: ‘A...         Marie Huillet   \n",
       "7  Spain Introduces Innovation-Aimed Crypto Regul...        Stephen O'Neal   \n",
       "8  New York State Legislature Proposes Creation o...         Ana Alexandre   \n",
       "9  Japan: Financial Watchdog Probes Crypto Exchan...         Marie Huillet   \n",
       "\n",
       "                    dt  views shares  \\\n",
       "0  2018-06-07 16:05:19  21383    422   \n",
       "1  2018-06-07 13:15:18   8146    158   \n",
       "2  2018-06-05 13:45:18  18990    205   \n",
       "3  2018-06-05 12:15:14  10605    211   \n",
       "4  2018-06-05 12:56:15  14094    172   \n",
       "5  2018-06-05 20:05:25   9216    192   \n",
       "6  2018-06-05 06:19:57   7957    321   \n",
       "7  2018-06-05 05:45:40  13978    285   \n",
       "8  2018-06-04 13:20:17  22454    263   \n",
       "9  2018-06-02 08:27:47  17063    165   \n",
       "\n",
       "                                               abody comments  \n",
       "0  Jay Clayton, the chair of the US Securities an...        5  \n",
       "1  Japan’s Financial Services Agency (FSA) has ba...       []  \n",
       "2  Risk management giant LexisNexis has partnered...       []  \n",
       "3  The City Court of St. Petersburg, Russia has o...       []  \n",
       "4  Fintech company Ripple Labs has employed Debev...        1  \n",
       "5  The U.S. Securities and Exchange Commission (S...       []  \n",
       "6  Former U.S. Federal Prosecutor Mary Beth Bucha...       []  \n",
       "7  On May 30, the Spanish Congress unanimously su...        8  \n",
       "8  The banks committee of the New York state legi...        1  \n",
       "9  Japan’s Financial Services Agency (FSA) has is...       11  "
      ]
     },
     "execution_count": 234,
     "metadata": {},
     "output_type": "execute_result"
    }
   ],
   "source": [
    "df.head(10)"
   ]
  },
  {
   "cell_type": "code",
   "execution_count": 233,
   "metadata": {},
   "outputs": [],
   "source": [
    "df['title'] = title\n",
    "df['author'] = author\n",
    "df['dt'] = dt\n",
    "df['views'] = views\n",
    "df['shares'] = shares\n",
    "df['abody'] = abody\n",
    "df['comments'] = comments"
   ]
  },
  {
   "cell_type": "code",
   "execution_count": 220,
   "metadata": {},
   "outputs": [],
   "source": [
    "# del df"
   ]
  },
  {
   "cell_type": "code",
   "execution_count": 235,
   "metadata": {},
   "outputs": [],
   "source": [
    "df.to_csv(\"df.csv\",index=None)"
   ]
  }
 ],
 "metadata": {
  "kernelspec": {
   "display_name": "Python 3",
   "language": "python",
   "name": "python3"
  },
  "language_info": {
   "codemirror_mode": {
    "name": "ipython",
    "version": 3
   },
   "file_extension": ".py",
   "mimetype": "text/x-python",
   "name": "python",
   "nbconvert_exporter": "python",
   "pygments_lexer": "ipython3",
   "version": "3.7.6"
  }
 },
 "nbformat": 4,
 "nbformat_minor": 2
}
